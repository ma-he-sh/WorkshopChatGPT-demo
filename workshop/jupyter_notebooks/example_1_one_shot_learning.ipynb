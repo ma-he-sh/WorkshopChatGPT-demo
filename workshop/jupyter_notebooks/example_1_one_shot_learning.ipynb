{
 "cells": [
  {
   "cell_type": "code",
   "execution_count": null,
   "id": "7461d960",
   "metadata": {},
   "outputs": [],
   "source": [
    "from dotenv import load_dotenv\n",
    "import os"
   ]
  },
  {
   "cell_type": "code",
   "execution_count": null,
   "id": "b7552ab0",
   "metadata": {},
   "outputs": [],
   "source": [
    "import openai # import open ai library"
   ]
  },
  {
   "cell_type": "code",
   "execution_count": null,
   "id": "58be8fb7",
   "metadata": {},
   "outputs": [],
   "source": [
    "# set the API Key\n",
    "openai.api_key = \"sk-..........................\"\n",
    "\n",
    "## load_dotenv('demo.env') \n",
    "## openai.api_key = os.environ.get(\"api_key\")"
   ]
  },
  {
   "cell_type": "markdown",
   "id": "0739f755",
   "metadata": {},
   "source": [
    "## One Shot learning"
   ]
  },
  {
   "cell_type": "code",
   "execution_count": null,
   "id": "fa6adf18",
   "metadata": {},
   "outputs": [],
   "source": [
    "prompt = (f\"Which of the following words is not a fruit?\\n\"\n",
    "          f\"1. Apple\\n\"\n",
    "          f\"2. Banana\\n\"\n",
    "          f\"3. Carrot\\n\"\n",
    "          f\"4. Mango\\n\"\n",
    "          f\"5. Orange\")\n",
    "\n",
    "# Generate output using GPT-3\n",
    "response = openai.Completion.create(\n",
    "  engine=\"text-davinci-002\",\n",
    "  prompt=prompt,\n",
    "  temperature=0.5,\n",
    "  max_tokens=20,\n",
    "  n = 1,\n",
    "  stop=None,\n",
    ")"
   ]
  },
  {
   "cell_type": "code",
   "execution_count": null,
   "id": "ffd3b4a0",
   "metadata": {},
   "outputs": [],
   "source": [
    "#response.choices[0].text"
   ]
  }
 ],
 "metadata": {
  "kernelspec": {
   "display_name": "Python 3 (ipykernel)",
   "language": "python",
   "name": "python3"
  },
  "language_info": {
   "codemirror_mode": {
    "name": "ipython",
    "version": 3
   },
   "file_extension": ".py",
   "mimetype": "text/x-python",
   "name": "python",
   "nbconvert_exporter": "python",
   "pygments_lexer": "ipython3",
   "version": "3.9.7"
  }
 },
 "nbformat": 4,
 "nbformat_minor": 5
}
