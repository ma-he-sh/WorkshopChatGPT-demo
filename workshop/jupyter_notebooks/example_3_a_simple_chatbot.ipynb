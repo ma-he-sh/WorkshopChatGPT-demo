{
 "cells": [
  {
   "cell_type": "code",
   "execution_count": 13,
   "id": "d4857ec3",
   "metadata": {},
   "outputs": [],
   "source": [
    "from dotenv import load_dotenv \n",
    "import os"
   ]
  },
  {
   "cell_type": "code",
   "execution_count": 14,
   "id": "5722169d",
   "metadata": {},
   "outputs": [],
   "source": [
    "# set the API Key\n",
    "import openai\n",
    "openai.api_key = \"sk-..........................\"\n",
    "\n",
    "##load_dotenv('demo.env') \n",
    "##openai.api_key = os.environ.get(\"api_key\")"
   ]
  },
  {
   "cell_type": "markdown",
   "id": "be19b2aa",
   "metadata": {},
   "source": [
    "## Chat "
   ]
  },
  {
   "cell_type": "code",
   "execution_count": 15,
   "id": "7cc9a0c5",
   "metadata": {},
   "outputs": [],
   "source": [
    "prompt = \"The following is a conversation with an AI assistant. The assistant is helpful, creative, clever, and very friendly.\\n\\nHuman: Hello, who are you?\\nAI: I am an AI created by OpenAI. How can I help you today?\\nHuman: I'd like to cancel my subscription.\\nAI:\""
   ]
  },
  {
   "cell_type": "code",
   "execution_count": 16,
   "id": "0bc1796e",
   "metadata": {},
   "outputs": [
    {
     "data": {
      "text/plain": [
       "\"The following is a conversation with an AI assistant. The assistant is helpful, creative, clever, and very friendly.\\n\\nHuman: Hello, who are you?\\nAI: I am an AI created by OpenAI. How can I help you today?\\nHuman: I'd like to cancel my subscription.\\nAI:\""
      ]
     },
     "execution_count": 16,
     "metadata": {},
     "output_type": "execute_result"
    }
   ],
   "source": [
    "prompt"
   ]
  },
  {
   "cell_type": "code",
   "execution_count": 17,
   "id": "2c6cbb66",
   "metadata": {},
   "outputs": [],
   "source": [
    "response = openai.Completion.create(\n",
    "  model=\"text-davinci-003\",\n",
    "  prompt=prompt,\n",
    "  temperature=0.9,\n",
    "  max_tokens=150,\n",
    "  top_p=1,\n",
    "  frequency_penalty=0.0,\n",
    "  presence_penalty=0.6,\n",
    "  stop=[\" Human:\", \" AI:\"]\n",
    ")"
   ]
  },
  {
   "cell_type": "code",
   "execution_count": 18,
   "id": "d49619f5",
   "metadata": {},
   "outputs": [],
   "source": [
    "#response.choices[0].text"
   ]
  },
  {
   "cell_type": "code",
   "execution_count": null,
   "id": "27f09004",
   "metadata": {},
   "outputs": [],
   "source": []
  }
 ],
 "metadata": {
  "kernelspec": {
   "display_name": "Python 3 (ipykernel)",
   "language": "python",
   "name": "python3"
  },
  "language_info": {
   "codemirror_mode": {
    "name": "ipython",
    "version": 3
   },
   "file_extension": ".py",
   "mimetype": "text/x-python",
   "name": "python",
   "nbconvert_exporter": "python",
   "pygments_lexer": "ipython3",
   "version": "3.9.7"
  }
 },
 "nbformat": 4,
 "nbformat_minor": 5
}
