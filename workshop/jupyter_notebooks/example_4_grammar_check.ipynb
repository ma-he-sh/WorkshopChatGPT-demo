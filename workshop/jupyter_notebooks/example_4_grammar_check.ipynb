{
 "cells": [
  {
   "cell_type": "code",
   "execution_count": 3,
   "id": "ece1a4b0",
   "metadata": {},
   "outputs": [],
   "source": [
    "from dotenv import load_dotenv \n",
    "import os"
   ]
  },
  {
   "cell_type": "code",
   "execution_count": 4,
   "id": "74111c9a",
   "metadata": {},
   "outputs": [],
   "source": [
    "import openai # import openai library"
   ]
  },
  {
   "cell_type": "code",
   "execution_count": 6,
   "id": "183a12fd",
   "metadata": {},
   "outputs": [],
   "source": [
    "# set the API Key\n",
    "openai.api_key = \"sk-..........................\"\n",
    "\n",
    "##load_dotenv('demo.env') \n",
    "##openai.api_key = os.environ.get(\"api_key\")"
   ]
  },
  {
   "cell_type": "markdown",
   "id": "800383ff",
   "metadata": {},
   "source": [
    "## Grammar Correction"
   ]
  },
  {
   "cell_type": "code",
   "execution_count": 7,
   "id": "61d0d99b",
   "metadata": {},
   "outputs": [],
   "source": [
    "# Choose the \"text-davinci-003\" as it is capable of performing advance tasks\n",
    "model = \"text-davinci-003\""
   ]
  },
  {
   "cell_type": "code",
   "execution_count": 8,
   "id": "054498db",
   "metadata": {},
   "outputs": [],
   "source": [
    "# Set the prompt\n",
    "prompt = \"Correct this to standard English:\\n\\nShe no went to the market.\""
   ]
  },
  {
   "cell_type": "code",
   "execution_count": 10,
   "id": "cc79f47a",
   "metadata": {},
   "outputs": [],
   "source": [
    "response = openai.Completion.create(\n",
    "  model=model,\n",
    "  prompt=prompt,\n",
    "  temperature=0,\n",
    "  max_tokens=60,\n",
    "  top_p=1.0,\n",
    "  frequency_penalty=0.0,\n",
    "  presence_penalty=0.0\n",
    ")"
   ]
  },
  {
   "cell_type": "code",
   "execution_count": 12,
   "id": "16710c30",
   "metadata": {},
   "outputs": [],
   "source": [
    "#response.choices[0].text"
   ]
  },
  {
   "cell_type": "code",
   "execution_count": null,
   "id": "8bfb0fe1",
   "metadata": {},
   "outputs": [],
   "source": []
  }
 ],
 "metadata": {
  "kernelspec": {
   "display_name": "Python 3 (ipykernel)",
   "language": "python",
   "name": "python3"
  },
  "language_info": {
   "codemirror_mode": {
    "name": "ipython",
    "version": 3
   },
   "file_extension": ".py",
   "mimetype": "text/x-python",
   "name": "python",
   "nbconvert_exporter": "python",
   "pygments_lexer": "ipython3",
   "version": "3.9.7"
  }
 },
 "nbformat": 4,
 "nbformat_minor": 5
}
