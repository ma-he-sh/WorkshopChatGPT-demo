{
 "cells": [
  {
   "cell_type": "code",
   "execution_count": 1,
   "id": "49c7f0ba",
   "metadata": {},
   "outputs": [],
   "source": [
    "from dotenv import load_dotenv \n",
    "import os"
   ]
  },
  {
   "cell_type": "code",
   "execution_count": 2,
   "id": "77a0d6a7",
   "metadata": {},
   "outputs": [],
   "source": [
    "import openai #import openai library"
   ]
  },
  {
   "cell_type": "code",
   "execution_count": 3,
   "id": "6435f0ca",
   "metadata": {},
   "outputs": [],
   "source": [
    "# Set the API key\n",
    "openai.api_key = \"sk-..........................\"\n",
    "\n",
    "##load_dotenv('demo.env')\n",
    "##openai.api_key = os.environ.get(\"api_key\")"
   ]
  },
  {
   "cell_type": "code",
   "execution_count": 4,
   "id": "1b7f50cd",
   "metadata": {},
   "outputs": [],
   "source": [
    "import ipywidgets as widgets\n",
    "from IPython.display import display"
   ]
  },
  {
   "cell_type": "code",
   "execution_count": 5,
   "id": "c7cf21ea",
   "metadata": {},
   "outputs": [],
   "source": [
    "def ask_gpt3(prompt):\n",
    "    response = openai.Completion.create(\n",
    "        engine=\"text-davinci-002\",\n",
    "        prompt=prompt,\n",
    "        max_tokens=1024,\n",
    "        n=1,\n",
    "        stop=None,\n",
    "        temperature=0.5,\n",
    "    )\n",
    "\n",
    "    message = response.choices[0].text.strip()\n",
    "    return message"
   ]
  },
  {
   "cell_type": "code",
   "execution_count": 6,
   "id": "ab16e311",
   "metadata": {},
   "outputs": [],
   "source": [
    "input_box = widgets.Text(\n",
    "    value=\"\",\n",
    "    description=\"Message:\",\n",
    "    layout=widgets.Layout(width=\"auto\"),\n",
    ")\n",
    "\n",
    "submit_button = widgets.Button(\n",
    "    description=\"Send\",\n",
    "    button_style=\"primary\",\n",
    "    layout=widgets.Layout(width=\"auto\", margin=\"0 0 0 10px\"),\n",
    ")\n"
   ]
  },
  {
   "cell_type": "code",
   "execution_count": 7,
   "id": "630173c6",
   "metadata": {},
   "outputs": [],
   "source": [
    "chat_history = []\n",
    "\n",
    "def handle_submit(sender):\n",
    "    user_message = input_box.value\n",
    "    chat_history.append(f\"User: {user_message}\")\n",
    "    bot_message = ask_gpt3(\"\\n\".join(chat_history))\n",
    "    chat_history.append(f\"Bot: {bot_message}\")\n",
    "    input_box.value = \"\"\n",
    "    display_chat_history()\n",
    "\n",
    "def display_chat_history():\n",
    "    chat_history_box.value = \"\\n\".join(chat_history)\n"
   ]
  },
  {
   "cell_type": "code",
   "execution_count": 8,
   "id": "eaacac3b",
   "metadata": {},
   "outputs": [],
   "source": [
    "chat_history_box = widgets.Textarea(\n",
    "    value=\"\",\n",
    "    description=\"Chat History:\",\n",
    "    layout=widgets.Layout(width=\"100%\", height=\"200px\"),\n",
    "    disabled=True,\n",
    ")"
   ]
  },
  {
   "cell_type": "code",
   "execution_count": 9,
   "id": "ecda26cf",
   "metadata": {},
   "outputs": [],
   "source": [
    "submit_button.on_click(handle_submit)"
   ]
  },
  {
   "cell_type": "code",
   "execution_count": 10,
   "id": "515ff1b0",
   "metadata": {},
   "outputs": [
    {
     "data": {
      "application/vnd.jupyter.widget-view+json": {
       "model_id": "659bd9b4d6624e6d9b122a54a0a15e63",
       "version_major": 2,
       "version_minor": 0
      },
      "text/plain": [
       "VBox(children=(Text(value='', description='Message:', layout=Layout(width='auto')), Button(button_style='prima…"
      ]
     },
     "metadata": {},
     "output_type": "display_data"
    }
   ],
   "source": [
    "display(\n",
    "    widgets.VBox(\n",
    "        [input_box, submit_button, chat_history_box],\n",
    "        layout=widgets.Layout(width=\"100%\"),\n",
    "    )\n",
    ")\n"
   ]
  },
  {
   "cell_type": "code",
   "execution_count": null,
   "id": "76278e14",
   "metadata": {},
   "outputs": [],
   "source": []
  }
 ],
 "metadata": {
  "kernelspec": {
   "display_name": "Python 3 (ipykernel)",
   "language": "python",
   "name": "python3"
  },
  "language_info": {
   "codemirror_mode": {
    "name": "ipython",
    "version": 3
   },
   "file_extension": ".py",
   "mimetype": "text/x-python",
   "name": "python",
   "nbconvert_exporter": "python",
   "pygments_lexer": "ipython3",
   "version": "3.9.7"
  }
 },
 "nbformat": 4,
 "nbformat_minor": 5
}
