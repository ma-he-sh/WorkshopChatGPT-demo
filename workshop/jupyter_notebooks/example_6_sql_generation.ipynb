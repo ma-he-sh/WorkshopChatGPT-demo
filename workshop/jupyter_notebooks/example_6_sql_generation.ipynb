{
 "cells": [
  {
   "cell_type": "code",
   "execution_count": 1,
   "id": "d3f2a705",
   "metadata": {},
   "outputs": [],
   "source": [
    "from dotenv import load_dotenv \n",
    "import os"
   ]
  },
  {
   "cell_type": "code",
   "execution_count": null,
   "id": "2eb1f3cd",
   "metadata": {},
   "outputs": [],
   "source": [
    "import openai # import openai library"
   ]
  },
  {
   "cell_type": "code",
   "execution_count": null,
   "id": "f334df48",
   "metadata": {},
   "outputs": [],
   "source": [
    "# set the API Key\n",
    "openai.api_key = \"sk-..........................\"\n",
    "\n",
    "##load_dotenv('demo.env')\n",
    "##openai.api_key = os.environ.get(\"api_key\")"
   ]
  },
  {
   "cell_type": "markdown",
   "id": "6cae13a2",
   "metadata": {},
   "source": [
    "## SQL Example"
   ]
  },
  {
   "cell_type": "code",
   "execution_count": 2,
   "id": "e90a75d9",
   "metadata": {},
   "outputs": [],
   "source": [
    "prompt = \"Generate a SQL query to retrieve all customers who have made a purchase in the last 30 days.\"\n",
    "\n",
    "# Generate SQL query using GPT-3\n",
    "response = openai.Completion.create(\n",
    "    engine=\"davinci-codex\",\n",
    "    prompt=prompt,\n",
    "    max_tokens=2048,\n",
    "    n=1,\n",
    "    stop=None,\n",
    "    temperature=0.7\n",
    ")"
   ]
  },
  {
   "cell_type": "code",
   "execution_count": 3,
   "id": "7273d35f",
   "metadata": {},
   "outputs": [],
   "source": [
    "# Print the generated SQL query\n",
    "sql_query = response.choices[0].text.strip()"
   ]
  },
  {
   "cell_type": "code",
   "execution_count": null,
   "id": "60f6ace4",
   "metadata": {},
   "outputs": [],
   "source": [
    "sql_query"
   ]
  }
 ],
 "metadata": {
  "kernelspec": {
   "display_name": "Python 3 (ipykernel)",
   "language": "python",
   "name": "python3"
  },
  "language_info": {
   "codemirror_mode": {
    "name": "ipython",
    "version": 3
   },
   "file_extension": ".py",
   "mimetype": "text/x-python",
   "name": "python",
   "nbconvert_exporter": "python",
   "pygments_lexer": "ipython3",
   "version": "3.9.7"
  }
 },
 "nbformat": 4,
 "nbformat_minor": 5
}
