{
 "cells": [
  {
   "cell_type": "code",
   "execution_count": 2,
   "id": "f0fd1a24",
   "metadata": {},
   "outputs": [],
   "source": [
    "from dotenv import load_dotenv \n",
    "import os"
   ]
  },
  {
   "cell_type": "code",
   "execution_count": 3,
   "id": "bc3d6fc3",
   "metadata": {},
   "outputs": [],
   "source": [
    "import openai\n",
    "# Fine tune example\n",
    "# https://github.com/norahsakal/fine-tune-gpt3-model/blob/main/fine_tune_step_by_step.ipynb"
   ]
  },
  {
   "cell_type": "code",
   "execution_count": 4,
   "id": "e47f0881",
   "metadata": {},
   "outputs": [],
   "source": [
    "API_KEY = \"sk-..........................\"\n",
    "\n",
    "load_dotenv('demo.env')\n",
    "API_KEY = os.environ.get(\"api_key\")"
   ]
  },
  {
   "cell_type": "code",
   "execution_count": 5,
   "id": "ffc65134",
   "metadata": {},
   "outputs": [],
   "source": [
    "openai.api_key = API_KEY\n",
    "os.environ[\"OPENAI_API_KEY\"] = API_KEY"
   ]
  },
  {
   "cell_type": "markdown",
   "id": "3da601b4",
   "metadata": {},
   "source": [
    "## Validate the data file is formatted correctly"
   ]
  },
  {
   "cell_type": "code",
   "execution_count": 6,
   "id": "1c5619a6",
   "metadata": {},
   "outputs": [],
   "source": [
    "#!openai tools fine_tunes.prepare_data -f data.jsonl"
   ]
  },
  {
   "cell_type": "markdown",
   "id": "70e1ce44",
   "metadata": {},
   "source": [
    "## Method1: Fine tune using OpenAI api CLI"
   ]
  },
  {
   "cell_type": "code",
   "execution_count": 7,
   "id": "c8b21ee0",
   "metadata": {},
   "outputs": [],
   "source": [
    "# openai api fine_tunes.create -t <TRAIN_FILE_ID_OR_PATH> -m <BASE_MODEL>\n",
    "#!openai api fine_tunes.create -t data3.jsonl -m davinci --suffix \"fish_n_animals\""
   ]
  },
  {
   "cell_type": "markdown",
   "id": "92b7c3a0",
   "metadata": {},
   "source": [
    "## Method2: Fine tune using OpenAI api"
   ]
  },
  {
   "cell_type": "markdown",
   "id": "20c8c58f",
   "metadata": {},
   "source": [
    "Upload the FILE to use it on fine tuning\n",
    "refer : https://platform.openai.com/docs/api-reference/files"
   ]
  },
  {
   "cell_type": "code",
   "execution_count": 8,
   "id": "9160a20c",
   "metadata": {},
   "outputs": [],
   "source": [
    "# define data file name\n",
    "file_name =  \"data5.jsonl\""
   ]
  },
  {
   "cell_type": "code",
   "execution_count": 9,
   "id": "0afa487e",
   "metadata": {},
   "outputs": [
    {
     "data": {
      "text/plain": [
       "<File file id=file-MemCXJ5jUwmmQKJAPaHqhhn2 at 0x7f3a862ce770> JSON: {\n",
       "  \"bytes\": 271,\n",
       "  \"created_at\": 1678208575,\n",
       "  \"filename\": \"file\",\n",
       "  \"id\": \"file-MemCXJ5jUwmmQKJAPaHqhhn2\",\n",
       "  \"object\": \"file\",\n",
       "  \"purpose\": \"fine-tune\",\n",
       "  \"status\": \"uploaded\",\n",
       "  \"status_details\": null\n",
       "}"
      ]
     },
     "execution_count": 9,
     "metadata": {},
     "output_type": "execute_result"
    }
   ],
   "source": [
    "upload_response = openai.File.create(\n",
    "  file=open(file_name, \"rb\"),\n",
    "  purpose='fine-tune'\n",
    ")\n",
    "upload_response"
   ]
  },
  {
   "cell_type": "code",
   "execution_count": 10,
   "id": "383c6521",
   "metadata": {},
   "outputs": [
    {
     "data": {
      "text/plain": [
       "'file-MemCXJ5jUwmmQKJAPaHqhhn2'"
      ]
     },
     "execution_count": 10,
     "metadata": {},
     "output_type": "execute_result"
    }
   ],
   "source": [
    "file_id = upload_response.id\n",
    "file_id"
   ]
  },
  {
   "cell_type": "markdown",
   "id": "fbed7116",
   "metadata": {},
   "source": [
    "## Fine-tune a model"
   ]
  },
  {
   "cell_type": "code",
   "execution_count": 11,
   "id": "e4bf1a1b",
   "metadata": {},
   "outputs": [],
   "source": [
    "## If you'd like to use DaVinci instead, then add it as a base model to fine-tune:\n",
    "## openai.FineTune.create(training_file=file_id, model=\"davinci\")"
   ]
  },
  {
   "cell_type": "code",
   "execution_count": 12,
   "id": "278dafaf",
   "metadata": {},
   "outputs": [
    {
     "data": {
      "text/plain": [
       "<FineTune fine-tune id=ft-UqmDkpRzJgscPg5hhyla79gM at 0x7f3a54812720> JSON: {\n",
       "  \"created_at\": 1678208620,\n",
       "  \"events\": [\n",
       "    {\n",
       "      \"created_at\": 1678208620,\n",
       "      \"level\": \"info\",\n",
       "      \"message\": \"Created fine-tune: ft-UqmDkpRzJgscPg5hhyla79gM\",\n",
       "      \"object\": \"fine-tune-event\"\n",
       "    }\n",
       "  ],\n",
       "  \"fine_tuned_model\": null,\n",
       "  \"hyperparams\": {\n",
       "    \"batch_size\": null,\n",
       "    \"learning_rate_multiplier\": null,\n",
       "    \"n_epochs\": 4,\n",
       "    \"prompt_loss_weight\": 0.01\n",
       "  },\n",
       "  \"id\": \"ft-UqmDkpRzJgscPg5hhyla79gM\",\n",
       "  \"model\": \"curie\",\n",
       "  \"object\": \"fine-tune\",\n",
       "  \"organization_id\": \"org-0tuNTBQvZ1vslwbsfURfnRNi\",\n",
       "  \"result_files\": [],\n",
       "  \"status\": \"pending\",\n",
       "  \"training_files\": [\n",
       "    {\n",
       "      \"bytes\": 271,\n",
       "      \"created_at\": 1678208575,\n",
       "      \"filename\": \"file\",\n",
       "      \"id\": \"file-MemCXJ5jUwmmQKJAPaHqhhn2\",\n",
       "      \"object\": \"file\",\n",
       "      \"purpose\": \"fine-tune\",\n",
       "      \"status\": \"processed\",\n",
       "      \"status_details\": null\n",
       "    }\n",
       "  ],\n",
       "  \"updated_at\": 1678208620,\n",
       "  \"validation_files\": []\n",
       "}"
      ]
     },
     "execution_count": 12,
     "metadata": {},
     "output_type": "execute_result"
    }
   ],
   "source": [
    "fine_tune_response = openai.FineTune.create(training_file=file_id)\n",
    "fine_tune_response"
   ]
  },
  {
   "cell_type": "code",
   "execution_count": 13,
   "id": "ce5ca015",
   "metadata": {},
   "outputs": [
    {
     "data": {
      "text/plain": [
       "<OpenAIObject list at 0x7f3a862ced10> JSON: {\n",
       "  \"data\": [\n",
       "    {\n",
       "      \"created_at\": 1678208620,\n",
       "      \"level\": \"info\",\n",
       "      \"message\": \"Created fine-tune: ft-UqmDkpRzJgscPg5hhyla79gM\",\n",
       "      \"object\": \"fine-tune-event\"\n",
       "    }\n",
       "  ],\n",
       "  \"object\": \"list\"\n",
       "}"
      ]
     },
     "execution_count": 13,
     "metadata": {},
     "output_type": "execute_result"
    }
   ],
   "source": [
    "# Fine tune progress\n",
    "fine_tune_events = openai.FineTune.list_events(id=fine_tune_response.id)\n",
    "fine_tune_events"
   ]
  },
  {
   "cell_type": "code",
   "execution_count": 14,
   "id": "46baaa0d",
   "metadata": {},
   "outputs": [
    {
     "data": {
      "text/plain": [
       "<FineTune fine-tune id=ft-UqmDkpRzJgscPg5hhyla79gM at 0x7f3a5486c950> JSON: {\n",
       "  \"created_at\": 1678208620,\n",
       "  \"events\": [\n",
       "    {\n",
       "      \"created_at\": 1678208620,\n",
       "      \"level\": \"info\",\n",
       "      \"message\": \"Created fine-tune: ft-UqmDkpRzJgscPg5hhyla79gM\",\n",
       "      \"object\": \"fine-tune-event\"\n",
       "    }\n",
       "  ],\n",
       "  \"fine_tuned_model\": null,\n",
       "  \"hyperparams\": {\n",
       "    \"batch_size\": null,\n",
       "    \"learning_rate_multiplier\": null,\n",
       "    \"n_epochs\": 4,\n",
       "    \"prompt_loss_weight\": 0.01\n",
       "  },\n",
       "  \"id\": \"ft-UqmDkpRzJgscPg5hhyla79gM\",\n",
       "  \"model\": \"curie\",\n",
       "  \"object\": \"fine-tune\",\n",
       "  \"organization_id\": \"org-0tuNTBQvZ1vslwbsfURfnRNi\",\n",
       "  \"result_files\": [],\n",
       "  \"status\": \"pending\",\n",
       "  \"training_files\": [\n",
       "    {\n",
       "      \"bytes\": 271,\n",
       "      \"created_at\": 1678208575,\n",
       "      \"filename\": \"file\",\n",
       "      \"id\": \"file-MemCXJ5jUwmmQKJAPaHqhhn2\",\n",
       "      \"object\": \"file\",\n",
       "      \"purpose\": \"fine-tune\",\n",
       "      \"status\": \"processed\",\n",
       "      \"status_details\": null\n",
       "    }\n",
       "  ],\n",
       "  \"updated_at\": 1678208620,\n",
       "  \"validation_files\": []\n",
       "}"
      ]
     },
     "execution_count": 14,
     "metadata": {},
     "output_type": "execute_result"
    }
   ],
   "source": [
    "# Fine tune object\n",
    "retrieve_response = openai.FineTune.retrieve(id=fine_tune_response.id)\n",
    "retrieve_response"
   ]
  },
  {
   "cell_type": "code",
   "execution_count": 15,
   "id": "8ed90576",
   "metadata": {},
   "outputs": [],
   "source": [
    "## Save the fine tune model\n",
    "if fine_tune_response.fine_tuned_model == None:\n",
    "    fine_tune_list = openai.FineTune.list()\n",
    "    fine_tuned_model = fine_tune_list['data'][0].fine_tuned_model"
   ]
  },
  {
   "cell_type": "code",
   "execution_count": 17,
   "id": "f4b1f7bb",
   "metadata": {},
   "outputs": [],
   "source": [
    "## openai.FineTune.list()"
   ]
  },
  {
   "cell_type": "code",
   "execution_count": 18,
   "id": "8f738072",
   "metadata": {},
   "outputs": [],
   "source": [
    "new_prompt = \"What type is a dolphin.->\""
   ]
  },
  {
   "cell_type": "code",
   "execution_count": 19,
   "id": "5aba25c1",
   "metadata": {},
   "outputs": [],
   "source": [
    "answer = openai.Completion.create(\n",
    "  model=fine_tuned_model,\n",
    "  prompt=new_prompt,\n",
    "  max_tokens=10, # Change amount of tokens for longer completion\n",
    "  temperature=0\n",
    ")"
   ]
  },
  {
   "cell_type": "code",
   "execution_count": 21,
   "id": "c0544b3e",
   "metadata": {},
   "outputs": [],
   "source": [
    "#answer['choices'][0]['text']"
   ]
  },
  {
   "cell_type": "code",
   "execution_count": null,
   "id": "72904f56",
   "metadata": {},
   "outputs": [],
   "source": []
  }
 ],
 "metadata": {
  "kernelspec": {
   "display_name": "Python 3 (ipykernel)",
   "language": "python",
   "name": "python3"
  },
  "language_info": {
   "codemirror_mode": {
    "name": "ipython",
    "version": 3
   },
   "file_extension": ".py",
   "mimetype": "text/x-python",
   "name": "python",
   "nbconvert_exporter": "python",
   "pygments_lexer": "ipython3",
   "version": "3.9.7"
  }
 },
 "nbformat": 4,
 "nbformat_minor": 5
}
